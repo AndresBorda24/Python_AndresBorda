{
  "nbformat": 4,
  "nbformat_minor": 0,
  "metadata": {
    "colab": {
      "name": "Curso_Python.ipynb",
      "provenance": [],
      "collapsed_sections": [
        "NBSAr1mYTR9W",
        "yNIkloYyizJ8",
        "E_C1pdUdxkzi",
        "ZGrmlSHm17Cl",
        "MnlL141s2qO8",
        "1fs3WWov2uUy",
        "JDp3Rtwl6MxX",
        "US0kpJ7jvo3F",
        "W0yKDN9Sur5O",
        "zu7gw0VDvsEb",
        "OHgJew0oxnev",
        "yRYQfw3sztsX",
        "qCEjDFHg0xYc",
        "nfhKfGn20zWU",
        "py2hHiPx1a8F",
        "Vxc33e_93Zl9",
        "bXilq9Wg4XeS",
        "066a4JVX6sIc",
        "MKJ5QtvkCO22",
        "rhXFhdzCCsLT",
        "3KaUBrR-GJV7",
        "xXdTsC0BKUjD",
        "gLOtnEu-LEqE"
      ],
      "authorship_tag": "ABX9TyMfcbecrGsdWjAhOqsCWjiE",
      "include_colab_link": true
    },
    "kernelspec": {
      "name": "python3",
      "display_name": "Python 3"
    },
    "language_info": {
      "name": "python"
    }
  },
  "cells": [
    {
      "cell_type": "markdown",
      "metadata": {
        "id": "view-in-github",
        "colab_type": "text"
      },
      "source": [
        "<a href=\"https://colab.research.google.com/github/AndresBorda24/Python_AndresBorda/blob/main/Curso_Python.ipynb\" target=\"_parent\"><img src=\"https://colab.research.google.com/assets/colab-badge.svg\" alt=\"Open In Colab\"/></a>"
      ]
    },
    {
      "cell_type": "markdown",
      "metadata": {
        "id": "NBSAr1mYTR9W"
      },
      "source": [
        "# 1- Limitar cantidad de decimales \n"
      ]
    },
    {
      "cell_type": "code",
      "metadata": {
        "id": "TLlCuF-FUIaa"
      },
      "source": [
        "classic_way = 48.94245\n",
        "print(\"classic Way: %.1f\"%classic_way)"
      ],
      "execution_count": null,
      "outputs": []
    },
    {
      "cell_type": "code",
      "metadata": {
        "id": "RXu55XQpURyg"
      },
      "source": [
        "x = 73.142612\n",
        "print(\"{0:.2f}\".format(x))"
      ],
      "execution_count": null,
      "outputs": []
    },
    {
      "cell_type": "code",
      "metadata": {
        "id": "whn5F-o0U5r2"
      },
      "source": [
        "h = round(154.263412, 2)\n",
        "print(h)\n",
        "\n",
        "# Creo que este es el metodo más sencillo de usar, además, es facil de comprender..."
      ],
      "execution_count": null,
      "outputs": []
    },
    {
      "cell_type": "code",
      "metadata": {
        "id": "1tl6xbpeVMyN",
        "colab": {
          "base_uri": "https://localhost:8080/"
        },
        "outputId": "5c9b9be2-4a41-46aa-adee-5cb94363badd"
      },
      "source": [
        "a = 13.812548712\n",
        "print(format(a, '.3f'))"
      ],
      "execution_count": null,
      "outputs": [
        {
          "output_type": "stream",
          "text": [
            "13.813\n"
          ],
          "name": "stdout"
        }
      ]
    },
    {
      "cell_type": "code",
      "metadata": {
        "id": "EV5pKcfYVnhd",
        "colab": {
          "base_uri": "https://localhost:8080/"
        },
        "outputId": "6b5b2dbd-1861-45e3-8ab1-3a15d90cf788"
      },
      "source": [
        "modern_way = 73.1932412\n",
        "print(f\"Modern Way: {modern_way:.4f}\")"
      ],
      "execution_count": null,
      "outputs": [
        {
          "output_type": "stream",
          "text": [
            "Modern Way: 73.1932\n"
          ],
          "name": "stdout"
        }
      ]
    },
    {
      "cell_type": "markdown",
      "metadata": {
        "id": "ek3gIsGoYWa4"
      },
      "source": [
        "### Limitar cantidad de caracteres en una cadena"
      ]
    },
    {
      "cell_type": "code",
      "metadata": {
        "id": "34HaWCGzWTHi",
        "colab": {
          "base_uri": "https://localhost:8080/"
        },
        "outputId": "263015a7-7dfc-4e39-9a67-b088f13745e9"
      },
      "source": [
        "string = \"Hello Edward\"\n",
        "print(\"Classic String: %.5s\" %string)\n",
        "#print('{:.7}'.format(string))\n",
        "# print(format(string, '.7s'))"
      ],
      "execution_count": null,
      "outputs": [
        {
          "output_type": "stream",
          "text": [
            "Classic String: Hello\n"
          ],
          "name": "stdout"
        }
      ]
    },
    {
      "cell_type": "markdown",
      "metadata": {
        "id": "yNIkloYyizJ8"
      },
      "source": [
        "# 2- Números Aleatorios"
      ]
    },
    {
      "cell_type": "markdown",
      "metadata": {
        "id": "VfYK0Bq_nS07"
      },
      "source": [
        "### 1"
      ]
    },
    {
      "cell_type": "code",
      "metadata": {
        "colab": {
          "base_uri": "https://localhost:8080/"
        },
        "id": "B9U_tK0Vi9aI",
        "outputId": "e924f1d0-d105-471d-f188-20414eb6aebf"
      },
      "source": [
        "import random\n",
        "\n",
        "# Mi solución, con un poco de ayuda de google :(\n",
        "numeros = [random.randint(5, 51) for num in range(10)]\n",
        "print(numeros)\n",
        "\n",
        "# Solución tutorial\n",
        "my_list = []\n",
        "\n",
        "for _ in range(10):\n",
        "  rand_num = random.randint(5, 50)\n",
        "  my_list.append(rand_num)\n",
        "\n",
        "print(my_list)\n"
      ],
      "execution_count": null,
      "outputs": [
        {
          "output_type": "stream",
          "text": [
            "[48, 50, 18, 18, 32, 48, 34, 42, 22, 12]\n",
            "[12, 5, 43, 48, 38, 42, 12, 39, 46, 45]\n"
          ],
          "name": "stdout"
        }
      ]
    },
    {
      "cell_type": "markdown",
      "metadata": {
        "id": "9kaYMLPmn6Ci"
      },
      "source": [
        "### 2"
      ]
    },
    {
      "cell_type": "code",
      "metadata": {
        "id": "IVlfz0uQn_bf",
        "colab": {
          "base_uri": "https://localhost:8080/"
        },
        "outputId": "1cd4c835-c7da-4ec2-dbb2-763aa178728e"
      },
      "source": [
        "# My solution\n",
        "\n",
        "numeros = [random.randrange(0, 101, 2) for num in range(20)]\n",
        "print(numeros)\n",
        "\n",
        "# Video solution \n",
        "my_list = []\n",
        "\n",
        "for _ in range(20):\n",
        "  rand_num = random.randrange(0, 101, 2)\n",
        "  my_list.append(rand_num)\n",
        "\n",
        "print(my_list)"
      ],
      "execution_count": null,
      "outputs": [
        {
          "output_type": "stream",
          "text": [
            "[22, 36, 88, 16, 94, 96, 18, 70, 52, 70, 4, 4, 80, 20, 6, 34, 96, 84, 20, 26]\n",
            "[16, 84, 8, 10, 22, 44, 46, 6, 68, 74, 94, 92, 12, 44, 98, 62, 92, 52, 54, 64]\n"
          ],
          "name": "stdout"
        }
      ]
    },
    {
      "cell_type": "markdown",
      "metadata": {
        "id": "TVRTws_mosmV"
      },
      "source": [
        "### 3"
      ]
    },
    {
      "cell_type": "code",
      "metadata": {
        "id": "WMjU8375ouNs",
        "colab": {
          "base_uri": "https://localhost:8080/"
        },
        "outputId": "a9c673b1-7410-480d-dcd0-265160111731"
      },
      "source": [
        "for _ in range(10):\n",
        "  rand_num = random.randint(1, 10)*5\n",
        "  print(rand_num) "
      ],
      "execution_count": null,
      "outputs": [
        {
          "output_type": "stream",
          "text": [
            "25\n",
            "40\n",
            "50\n",
            "50\n",
            "35\n",
            "45\n",
            "15\n",
            "50\n",
            "50\n",
            "25\n"
          ],
          "name": "stdout"
        }
      ]
    },
    {
      "cell_type": "markdown",
      "metadata": {
        "id": "odo6yYi9pYIC"
      },
      "source": [
        "###4"
      ]
    },
    {
      "cell_type": "code",
      "metadata": {
        "id": "na2_zVc5pbE0",
        "colab": {
          "base_uri": "https://localhost:8080/"
        },
        "outputId": "6630b9ac-9b58-4077-b2df-30b5198cefdd"
      },
      "source": [
        "some_nums = [ i for i in range(1, 21) ]\n",
        "print(some_nums)\n",
        "\n",
        "random.shuffle(some_nums)\n",
        "print(some_nums)"
      ],
      "execution_count": null,
      "outputs": [
        {
          "output_type": "stream",
          "text": [
            "[1, 2, 3, 4, 5, 6, 7, 8, 9, 10, 11, 12, 13, 14, 15, 16, 17, 18, 19, 20]\n",
            "[8, 5, 14, 11, 12, 6, 19, 17, 7, 16, 10, 2, 3, 13, 1, 18, 4, 20, 9, 15]\n"
          ],
          "name": "stdout"
        }
      ]
    },
    {
      "cell_type": "markdown",
      "metadata": {
        "id": "E_C1pdUdxkzi"
      },
      "source": [
        "# 3- Numero mas grande en una lista \n"
      ]
    },
    {
      "cell_type": "markdown",
      "metadata": {
        "id": "8cPIDU600Dp7"
      },
      "source": [
        "###1"
      ]
    },
    {
      "cell_type": "code",
      "metadata": {
        "id": "0HD9oi1Ayn9I"
      },
      "source": [
        "my_list = []\n",
        "\n",
        "num_elements = int(input(\"Ingrese el total de numeros a añadir:   \"))\n",
        "\n",
        "for i in range(num_elements):\n",
        "  each_element = int(input(\"Ingrese cada elemento:   \"))\n",
        "  my_list.append(each_element)\n",
        "\n",
        "print (\"Lista Original: \", my_list)\n",
        "\n",
        "my_list.sort()\n",
        "print (\"Lista Ordenada: \", my_list)\n",
        "\n",
        "print (\"El numero mayor es: \", my_list[-1])\n",
        "print(\"El numero menor es: \", my_list[0])"
      ],
      "execution_count": null,
      "outputs": []
    },
    {
      "cell_type": "markdown",
      "metadata": {
        "id": "kgYTWYZb0GNp"
      },
      "source": [
        "###2"
      ]
    },
    {
      "cell_type": "code",
      "metadata": {
        "id": "jWQrixV30IQR"
      },
      "source": [
        "my_list = []\n",
        "\n",
        "num_elements = int(input(\"Ingrese el total de numeros a añadir:   \"))\n",
        "\n",
        "for i in range(num_elements):\n",
        "  each_element = int(input(\"Ingrese cada elemento:   \"))\n",
        "  my_list.append(each_element)\n",
        "\n",
        "Longest = my_list[0]\n",
        "\n",
        "for k in my_list[1:]:\n",
        "  if (k > Longest):\n",
        "    Longest = k\n",
        "\n",
        "print(\"El número mayor: \", Longest)\n"
      ],
      "execution_count": null,
      "outputs": []
    },
    {
      "cell_type": "markdown",
      "metadata": {
        "id": "Nrdm9k6A0x-R"
      },
      "source": [
        "### 3"
      ]
    },
    {
      "cell_type": "code",
      "metadata": {
        "colab": {
          "base_uri": "https://localhost:8080/"
        },
        "id": "ONTMlphB05GQ",
        "outputId": "b5ba5434-5537-458f-dfcf-4b10f14e75bb"
      },
      "source": [
        "def findLargestNum(nums):\n",
        "  largest = nums[0]\n",
        "  for i in nums[1:]:\n",
        "    if i > largest:\n",
        "      largest = i\n",
        "  print(\"EL número mayor es: \", largest)\n",
        "  \n",
        "findLargestNum([12, 7, 8, 10, 56, 78, 1, 9])"
      ],
      "execution_count": null,
      "outputs": [
        {
          "output_type": "stream",
          "text": [
            "The Largest Number is:  78\n"
          ],
          "name": "stdout"
        }
      ]
    },
    {
      "cell_type": "markdown",
      "metadata": {
        "id": "MouaHzXC1WcH"
      },
      "source": [
        "###4"
      ]
    },
    {
      "cell_type": "code",
      "metadata": {
        "colab": {
          "base_uri": "https://localhost:8080/"
        },
        "id": "VkcG5o-o1YA2",
        "outputId": "1a2a9992-bba4-4270-aeee-8dedb9265eba"
      },
      "source": [
        "def findLargestNum(nums):\n",
        "\tfindLargestNum = max(nums)\n",
        "\treturn findLargestNum\n",
        "\t\n",
        "findLargestNum([12, 7, 8, 10, 56, 78, 1, 9])"
      ],
      "execution_count": null,
      "outputs": [
        {
          "output_type": "execute_result",
          "data": {
            "text/plain": [
              "78"
            ]
          },
          "metadata": {
            "tags": []
          },
          "execution_count": 48
        }
      ]
    },
    {
      "cell_type": "markdown",
      "metadata": {
        "id": "ZGrmlSHm17Cl"
      },
      "source": [
        "# 4- ¿Es par o impar?"
      ]
    },
    {
      "cell_type": "markdown",
      "metadata": {
        "id": "MnlL141s2qO8"
      },
      "source": [
        "### Básico"
      ]
    },
    {
      "cell_type": "code",
      "metadata": {
        "id": "djVaxgeN1_8U"
      },
      "source": [
        "print (\" Programa - Par o Impar - Versión Básica\")\n",
        "\n",
        "number = 0\n",
        "\n",
        "number = int(input(\"Introduzca un número: \"))  \n",
        "\n",
        "\n",
        "if number%2 == 0:  \n",
        "    print(f\"El numero: {number} es par\")    \n",
        "else:\n",
        "    print(f\"Uyyy, el número: {number} es impar!\") \n"
      ],
      "execution_count": null,
      "outputs": []
    },
    {
      "cell_type": "markdown",
      "metadata": {
        "id": "1fs3WWov2uUy"
      },
      "source": [
        "###Avanzado"
      ]
    },
    {
      "cell_type": "code",
      "metadata": {
        "id": "On1vgfcv2xOE"
      },
      "source": [
        "print (\" Programa - Par o Impar - Versión Avanzada\")\n",
        "\n",
        "number = 0\n",
        "\n",
        "while True:\n",
        "  try:\n",
        "     number=int(input(\"Introduzca un número!\"))  \n",
        "\n",
        "  except ValueError:\n",
        "     print(\"No es un número entero, intente de nuevo!\") \n",
        "     continue\n",
        "     \n",
        "  else:\n",
        "     if number%2 == 0:                 \n",
        "         print(\"El numero\", number, \"es par\") \n",
        "     else:\n",
        "         print(\"Uyyy, el número\", number, \" no es par! Entonces, es impar!\")\n",
        "  break   "
      ],
      "execution_count": null,
      "outputs": []
    },
    {
      "cell_type": "markdown",
      "metadata": {
        "id": "JDp3Rtwl6MxX"
      },
      "source": [
        "# 5- Suma de pares o impares desde 0 a n"
      ]
    },
    {
      "cell_type": "markdown",
      "metadata": {
        "id": "US0kpJ7jvo3F"
      },
      "source": [
        "### Impares"
      ]
    },
    {
      "cell_type": "code",
      "metadata": {
        "id": "vM-HgwoNuwVm"
      },
      "source": [
        "total = 0\n",
        "num = int(input(\"Por favor digite un número: \"))\n",
        "even_numbers = []\n",
        "\n",
        "for i in range(0, num + 1):\n",
        "  if i % 2 == 1:\n",
        "    even_numbers.append(i)\n",
        "    total += i\n",
        "\n",
        "print(f\"Todos los números impares desde 0 hasta {num} son: {even_numbers}\")\n",
        "print(\"------------------------------\")\n",
        "print(\"La suma de los numeros impares desde 0 hasta {} es: {}\".format(num, total))"
      ],
      "execution_count": null,
      "outputs": []
    },
    {
      "cell_type": "markdown",
      "metadata": {
        "id": "W0yKDN9Sur5O"
      },
      "source": [
        "### Pares\n"
      ]
    },
    {
      "cell_type": "code",
      "metadata": {
        "id": "fqud8IdHt_Ep",
        "colab": {
          "base_uri": "https://localhost:8080/"
        },
        "outputId": "9fd32721-6a9c-40f2-d5f0-2b336f41af70"
      },
      "source": [
        "total = 0\n",
        "\n",
        "num = int(input(\"Por favor digite un número: \"))\n",
        "even_numbers = []\n",
        "\n",
        "for i in range(0, num + 1):\n",
        "  if i % 2 == 0:\n",
        "    even_numbers.append(i)\n",
        "    total += i\n",
        "\n",
        "print(f\"Todos los números pares desde 0 hasta {num} son: {even_numbers}\")\n",
        "print(\"-------------------------------\")\n",
        "print(\"La suma de todos los números pares desde 0 hasta {} es: {}\".format(num, total))\n"
      ],
      "execution_count": null,
      "outputs": [
        {
          "output_type": "stream",
          "text": [
            "Por favor digite un número: 10\n",
            "Todos los números pares desde 0 hasta 10 son: [0, 2, 4, 6, 8, 10]\n",
            "-------------------------------\n",
            "La suma de todos los números pares desde 0 hasta 10 es: 30\n"
          ],
          "name": "stdout"
        }
      ]
    },
    {
      "cell_type": "markdown",
      "metadata": {
        "id": "zu7gw0VDvsEb"
      },
      "source": [
        "# 6- Cantidad de digitos de un número"
      ]
    },
    {
      "cell_type": "markdown",
      "metadata": {
        "id": "IVghCZmuwbrB"
      },
      "source": [
        "### Metodo 1"
      ]
    },
    {
      "cell_type": "code",
      "metadata": {
        "colab": {
          "base_uri": "https://localhost:8080/"
        },
        "id": "hR2yF55dwS5T",
        "outputId": "cb002677-b720-4c9a-96d1-4de66b8922b9"
      },
      "source": [
        "user_input = int(input(\"Por favor, digite un número: \"))\n",
        "user_input = abs(user_input)\n",
        "\n",
        "print(\"Tu número original es: \", user_input)\n",
        "\n",
        "count = 0\n",
        "while user_input > 0:\n",
        "  user_input //= 10\n",
        "  count += 1\n",
        "  \n",
        "print(\"La cantidad de digitos de su número es: {} \".format(count))"
      ],
      "execution_count": null,
      "outputs": [
        {
          "output_type": "stream",
          "text": [
            "Por favor, digite un número: -2123412\n",
            "Tu número original es:  2123412\n",
            "La cantidad de digitos de su número es: 7 \n"
          ],
          "name": "stdout"
        }
      ]
    },
    {
      "cell_type": "markdown",
      "metadata": {
        "id": "DX5B1fLuxFto"
      },
      "source": [
        "### Metodo 2"
      ]
    },
    {
      "cell_type": "code",
      "metadata": {
        "id": "LuFuK6pvxHu3"
      },
      "source": [
        "my_number = 7548\n",
        "print(len(str(my_number)))\n",
        "\n",
        "# Variante con input\n",
        "\n",
        "my_number2 = int(input(\"Por favor, digite un número: \"))\n",
        "print(len(str(my_number2)))"
      ],
      "execution_count": null,
      "outputs": []
    },
    {
      "cell_type": "markdown",
      "metadata": {
        "id": "OHgJew0oxnev"
      },
      "source": [
        "# 7- Separar cada digito de un número"
      ]
    },
    {
      "cell_type": "markdown",
      "metadata": {
        "id": "bRQRa0oUy8Ny"
      },
      "source": [
        "### Metodo 1"
      ]
    },
    {
      "cell_type": "code",
      "metadata": {
        "id": "3KYXcL1lxpcP"
      },
      "source": [
        "lst = []\n",
        "def string_int(num):\n",
        "    for i in num:\n",
        "        lst.append(int(i))\n",
        "    print(lst)\n",
        "\n",
        "user_input = input(\"Digite un número: \")\n",
        "string_int(user_input)"
      ],
      "execution_count": null,
      "outputs": []
    },
    {
      "cell_type": "markdown",
      "metadata": {
        "id": "GQ-R_-cazJ55"
      },
      "source": [
        "### Metodo 2"
      ]
    },
    {
      "cell_type": "code",
      "metadata": {
        "colab": {
          "base_uri": "https://localhost:8080/"
        },
        "id": "4Sot4YyizL0D",
        "outputId": "127df3a9-2c49-4346-b4b5-e9b0ec91875f"
      },
      "source": [
        "def string_int(txt):\n",
        "     num_int = [int(i) for i in txt]\n",
        "     print(num_int)\n",
        "\n",
        "user_in = input(\"Digite un número: \")\n",
        "string_int(user_in)"
      ],
      "execution_count": null,
      "outputs": [
        {
          "output_type": "stream",
          "text": [
            "Digite un número: 1234567\n",
            "[1, 2, 3, 4, 5, 6, 7]\n"
          ],
          "name": "stdout"
        }
      ]
    },
    {
      "cell_type": "markdown",
      "metadata": {
        "id": "yRYQfw3sztsX"
      },
      "source": [
        "# 8- Suma de n Números"
      ]
    },
    {
      "cell_type": "markdown",
      "metadata": {
        "id": "qCEjDFHg0xYc"
      },
      "source": [
        "### Metodo 1"
      ]
    },
    {
      "cell_type": "code",
      "metadata": {
        "id": "dcmdyd9HzwJ_"
      },
      "source": [
        "total = 0\n",
        "num = 100\n",
        "\n",
        "for i in range(0, num+1):\n",
        "    total = total + i\n",
        "\n",
        "print(\"La suma de los números de 0 hasta {} es: {}\".format(num,total))"
      ],
      "execution_count": null,
      "outputs": []
    },
    {
      "cell_type": "markdown",
      "metadata": {
        "id": "nfhKfGn20zWU"
      },
      "source": [
        "### Metodo 2 "
      ]
    },
    {
      "cell_type": "code",
      "metadata": {
        "id": "is31KsUi01hk"
      },
      "source": [
        "total = 0\n",
        "num = int(input(\"Por favor, digite un número: \"))\n",
        "\n",
        "for i in range(0, num+1):\n",
        "    total = total + i\n",
        "\n",
        "print(\"La suma de los números de 0 hasta {} es: {}\".format(num,total))"
      ],
      "execution_count": null,
      "outputs": []
    },
    {
      "cell_type": "markdown",
      "metadata": {
        "id": "py2hHiPx1a8F"
      },
      "source": [
        "### Metodo 3 Funcion"
      ]
    },
    {
      "cell_type": "code",
      "metadata": {
        "id": "FlbehZF41dyL"
      },
      "source": [
        "def sumOf(num):\n",
        "     total = 0\n",
        "\n",
        "     for i in range(1, num + 1):\n",
        "         total = total +i\n",
        "     return total\n",
        "     \n",
        "print(sumOf(10))"
      ],
      "execution_count": null,
      "outputs": []
    },
    {
      "cell_type": "markdown",
      "metadata": {
        "id": "Vxc33e_93Zl9"
      },
      "source": [
        "# 9- Contador de pares e impares (facil)"
      ]
    },
    {
      "cell_type": "code",
      "metadata": {
        "colab": {
          "base_uri": "https://localhost:8080/"
        },
        "id": "wd6wT9Zd3b5u",
        "outputId": "745d0eb9-1dfc-412f-b3a2-ce91e6082495"
      },
      "source": [
        "user_input = int(input(\"Digite su número: \"))\n",
        "\n",
        "even_num = 0\n",
        "odd_num = 0\n",
        "\n",
        "while(user_input > 0):\n",
        "  if user_input % 2 == 0:\n",
        "    even_num += 1\n",
        "  else:\n",
        "    odd_num += 1\n",
        "  user_input = user_input // 10\n",
        "\n",
        "print(f\"Cantidad de numeros pares: {even_num} | Cantidad de números impares: {odd_num}\")"
      ],
      "execution_count": null,
      "outputs": [
        {
          "output_type": "stream",
          "text": [
            "Digite su número: 123\n",
            "Cantidad de numeros pares: 1 | Cantidad de números impares: 2\n"
          ],
          "name": "stdout"
        }
      ]
    },
    {
      "cell_type": "markdown",
      "metadata": {
        "id": "bXilq9Wg4XeS"
      },
      "source": [
        "# 10- Contador de pares e impares (intermedio) "
      ]
    },
    {
      "cell_type": "code",
      "metadata": {
        "colab": {
          "base_uri": "https://localhost:8080/"
        },
        "id": "ZExHFroL4kO6",
        "outputId": "f1be4537-359b-4f98-e150-e735e8564435"
      },
      "source": [
        "def even_odd_counter (arr_values):\n",
        "  count_even = 0\n",
        "  count_odd = 0 \n",
        "\n",
        "  even_odd = []\n",
        "\n",
        "  for i in range(len(arr_values)):\n",
        "    if(arr_values[i] % 2 == 0):\n",
        "      count_even += 1\n",
        "    else:\n",
        "      count_odd += 1\n",
        "  \n",
        "  even_odd.append(count_even)\n",
        "  even_odd.append(count_odd)\n",
        "\n",
        "  print(even_odd)\n",
        "  print(\"Pares: {}  |  Impares: {} \".format(even_odd[0], even_odd[1]))\n",
        "\n",
        "even_odd_counter([5, 2, 3, 44, 4, 9, 12, 13, 27])"
      ],
      "execution_count": 3,
      "outputs": [
        {
          "output_type": "stream",
          "text": [
            "[4, 5]\n",
            "Pares: 4  |  Impares: 5 \n"
          ],
          "name": "stdout"
        }
      ]
    },
    {
      "cell_type": "markdown",
      "metadata": {
        "id": "066a4JVX6sIc"
      },
      "source": [
        "# 11 - 12 - Tabla de multiplicar"
      ]
    },
    {
      "cell_type": "markdown",
      "metadata": {
        "id": "MKJ5QtvkCO22"
      },
      "source": [
        "### Este da error sin razón aparente "
      ]
    },
    {
      "cell_type": "code",
      "metadata": {
        "id": "nMr_-xPO6vqk"
      },
      "source": [
        "import sys\n",
        "def multi_table():\n",
        "    num = int(input(\"Por favor, digite el número a multiplicar: \"))\n",
        "    limit = int(input(\"¿Cual es el limite maximo de la tabla?: \"))\n",
        "\n",
        "    for i in range(1, limit + 1):\n",
        "        product = num * i\n",
        "        print(f\"{num} * {i} = {product}\")\n",
        "\n",
        "    print(\"¿Desea crear otra tabla? \\n 1 - Si \\n 2 - No\")\n",
        "    x = input().lower()\n",
        "    if (x == '1' or x == \"si\"):\n",
        "        multi_table()\n",
        "    else:\n",
        "        print(\"Adios!!!\")\n",
        "        sys.exit(\"Bueno este es un mensaje de prueba\")\n",
        "multi_table()"
      ],
      "execution_count": null,
      "outputs": []
    },
    {
      "cell_type": "markdown",
      "metadata": {
        "id": "T4WGHCyJCg7c"
      },
      "source": [
        "### Una solucion que quiza no sea la mejor"
      ]
    },
    {
      "cell_type": "code",
      "metadata": {
        "id": "FfAafrqD_ZTW"
      },
      "source": [
        "def multi_table():\n",
        "    num = int(input(\"Por favor, digite el número a multiplicar: \"))\n",
        "    limit = int(input(\"¿Cual es el limite maximo de la tabla?: \"))\n",
        "\n",
        "    for i in range(1, limit + 1):\n",
        "        product = num * i\n",
        "        print(f\"{num} * {i} = {product}\")\n",
        "\n",
        "    print(\"¿Desea crear otra tabla? \\n 1 - Si \\n 2 - No\")\n",
        "    x = input().lower()\n",
        "    if (x == '1' or x == \"si\"):\n",
        "        multi_table()\n",
        "    else:\n",
        "        print(\"Adios!!!\")\n",
        "        quit()\n",
        "multi_table()"
      ],
      "execution_count": null,
      "outputs": []
    },
    {
      "cell_type": "markdown",
      "metadata": {
        "id": "rhXFhdzCCsLT"
      },
      "source": [
        "# 13- Mostrar los números del 1 al 100 sin loops"
      ]
    },
    {
      "cell_type": "markdown",
      "metadata": {
        "id": "3KaUBrR-GJV7"
      },
      "source": [
        "### Mi solucion "
      ]
    },
    {
      "cell_type": "code",
      "metadata": {
        "id": "k4vLXJ5qCts-"
      },
      "source": [
        "def one (x):\n",
        "    if x <= 100:\n",
        "        print (x)\n",
        "        x += 1\n",
        "        one(x)\n",
        "    else:\n",
        "        return print('Ya esta!')\n",
        "\n",
        "num = 1\n",
        "\n",
        "one(num)\n"
      ],
      "execution_count": null,
      "outputs": []
    },
    {
      "cell_type": "markdown",
      "metadata": {
        "id": "W6r6vG3-GbOr"
      },
      "source": [
        "### Solucion video"
      ]
    },
    {
      "cell_type": "code",
      "metadata": {
        "id": "Y4tRgWuPGZtp"
      },
      "source": [
        "def hundredNums (num):\n",
        "  if num != 101:\n",
        "    print(num)\n",
        "    num += 1\n",
        "    hundredNums(num)\n",
        "  else:\n",
        "    return \n",
        "  \n",
        "hundredNums(1)"
      ],
      "execution_count": null,
      "outputs": []
    },
    {
      "cell_type": "markdown",
      "metadata": {
        "id": "xXdTsC0BKUjD"
      },
      "source": [
        "# 14- Numeros del 100 al 1 "
      ]
    },
    {
      "cell_type": "markdown",
      "metadata": {
        "id": "VduZR-4wKaJd"
      },
      "source": [
        "### Metodo 1 "
      ]
    },
    {
      "cell_type": "code",
      "metadata": {
        "id": "ndKBRQaCKYsf"
      },
      "source": [
        "for i in range(100,0,-1) :\n",
        "    print(i)"
      ],
      "execution_count": null,
      "outputs": []
    },
    {
      "cell_type": "markdown",
      "metadata": {
        "id": "oavnWTaWKeHn"
      },
      "source": [
        "### Metodo 2"
      ]
    },
    {
      "cell_type": "code",
      "metadata": {
        "id": "maey8XkBKgJ9"
      },
      "source": [
        "counter = 100\n",
        "\n",
        "while counter > 0:\n",
        "  print(counter)\n",
        "  counter -= 1"
      ],
      "execution_count": null,
      "outputs": []
    },
    {
      "cell_type": "markdown",
      "metadata": {
        "id": "v4RS4aTSKkRH"
      },
      "source": [
        "### Metodo 2.1"
      ]
    },
    {
      "cell_type": "code",
      "metadata": {
        "id": "QUgovzidKujV"
      },
      "source": [
        "counter = 100\n",
        "while counter >= 0:\n",
        "  if counter > 0:\n",
        "    print(counter)\n",
        "  if counter == 0:\n",
        "    print(\"Este es el final!!!\")\n",
        "  counter -= 1"
      ],
      "execution_count": null,
      "outputs": []
    },
    {
      "cell_type": "markdown",
      "metadata": {
        "id": "68gurR73K7Uc"
      },
      "source": [
        "### Metodo 3"
      ]
    },
    {
      "cell_type": "code",
      "metadata": {
        "id": "0a20uZpFK-5U"
      },
      "source": [
        "counter = 100\n",
        "\n",
        "while counter >= 0:\n",
        "  if counter != 0:\n",
        "    print(counter)\n",
        "  else:\n",
        "    print(\"Este es el final!!!\")\n",
        "  counter -= 1"
      ],
      "execution_count": null,
      "outputs": []
    },
    {
      "cell_type": "markdown",
      "metadata": {
        "id": "gLOtnEu-LEqE"
      },
      "source": [
        "# 15- Números Secuenciales"
      ]
    },
    {
      "cell_type": "markdown",
      "metadata": {
        "id": "AMpH1NMaLnIS"
      },
      "source": [
        "### Metodo 1"
      ]
    },
    {
      "cell_type": "code",
      "metadata": {
        "colab": {
          "base_uri": "https://localhost:8080/"
        },
        "id": "kJnSAj6TLvLL",
        "outputId": "06ed6f80-7e29-4d12-e3e3-056abf4bf486"
      },
      "source": [
        "seq_number = [i for i in range(1, 21)]\n",
        "print(seq_number)"
      ],
      "execution_count": null,
      "outputs": [
        {
          "output_type": "stream",
          "text": [
            "[1, 2, 3, 4, 5, 6, 7, 8, 9, 10, 11, 12, 13, 14, 15, 16, 17, 18, 19, 20]\n"
          ],
          "name": "stdout"
        }
      ]
    },
    {
      "cell_type": "markdown",
      "metadata": {
        "id": "T3eSLxhGLlLz"
      },
      "source": [
        "### Metodo 2"
      ]
    },
    {
      "cell_type": "code",
      "metadata": {
        "colab": {
          "base_uri": "https://localhost:8080/"
        },
        "id": "-zPGuvTXMDDs",
        "outputId": "c8bb1717-490b-45fb-e78e-916d018b027a"
      },
      "source": [
        "seq_number = list((i for i in range(1, 21)))\n",
        "print(seq_number)"
      ],
      "execution_count": null,
      "outputs": [
        {
          "output_type": "stream",
          "text": [
            "[1, 2, 3, 4, 5, 6, 7, 8, 9, 10, 11, 12, 13, 14, 15, 16, 17, 18, 19, 20]\n"
          ],
          "name": "stdout"
        }
      ]
    },
    {
      "cell_type": "markdown",
      "metadata": {
        "id": "K8QasKq8LizK"
      },
      "source": [
        "### Metodo 3"
      ]
    },
    {
      "cell_type": "code",
      "metadata": {
        "colab": {
          "base_uri": "https://localhost:8080/"
        },
        "id": "qA7ae60BMixp",
        "outputId": "9cfd6249-2cec-4c7f-bb63-63e904921137"
      },
      "source": [
        "my_lst = []\n",
        "for x in range(1, 21):\n",
        "  my_lst.append(x)\n",
        "\n",
        "print(my_lst)"
      ],
      "execution_count": null,
      "outputs": [
        {
          "output_type": "stream",
          "text": [
            "[1, 2, 3, 4, 5, 6, 7, 8, 9, 10, 11, 12, 13, 14, 15, 16, 17, 18, 19, 20]\n"
          ],
          "name": "stdout"
        }
      ]
    },
    {
      "cell_type": "markdown",
      "metadata": {
        "id": "El1K1c_1LfUM"
      },
      "source": [
        "### Metodo 4"
      ]
    },
    {
      "cell_type": "code",
      "metadata": {
        "colab": {
          "base_uri": "https://localhost:8080/"
        },
        "id": "AyXR3Mg_M2Zn",
        "outputId": "096fd111-015a-4994-e1f8-e2fd714f5c08"
      },
      "source": [
        "user_input = int(input(\"Digite su rango de números: \"))\n",
        "\n",
        "seq_number = [i for i in range(1, user_input + 1)]\n",
        "print(seq_number)"
      ],
      "execution_count": 1,
      "outputs": [
        {
          "output_type": "stream",
          "text": [
            "Digite su rango de números: 6\n",
            "[1, 2, 3, 4, 5, 6]\n"
          ],
          "name": "stdout"
        }
      ]
    },
    {
      "cell_type": "markdown",
      "metadata": {
        "id": "xVVY-iT3NP03"
      },
      "source": [
        "### Metodo de una sola linea"
      ]
    },
    {
      "cell_type": "code",
      "metadata": {
        "colab": {
          "base_uri": "https://localhost:8080/"
        },
        "id": "K5wClNpXNSoN",
        "outputId": "cd1e1262-305a-4177-b88d-14e322071036"
      },
      "source": [
        "print(list(range(20, 0, -1)))"
      ],
      "execution_count": null,
      "outputs": [
        {
          "output_type": "stream",
          "text": [
            "[20, 19, 18, 17, 16, 15, 14, 13, 12, 11, 10, 9, 8, 7, 6, 5, 4, 3, 2, 1]\n"
          ],
          "name": "stdout"
        }
      ]
    }
  ]
}