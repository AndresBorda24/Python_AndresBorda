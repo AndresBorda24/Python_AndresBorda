{
  "nbformat": 4,
  "nbformat_minor": 0,
  "metadata": {
    "colab": {
      "name": "Patrones de repeticion[1].ipynb",
      "provenance": [],
      "collapsed_sections": [],
      "authorship_tag": "ABX9TyMP/E6ZixS+PuopHiosvZtD",
      "include_colab_link": true
    },
    "kernelspec": {
      "name": "python3",
      "display_name": "Python 3"
    },
    "language_info": {
      "name": "python"
    }
  },
  "cells": [
    {
      "cell_type": "markdown",
      "metadata": {
        "id": "view-in-github",
        "colab_type": "text"
      },
      "source": [
        "<a href=\"https://colab.research.google.com/github/AndresBorda24/Python_AndresBorda/blob/Python_AndresBorda/Patrones_de_repeticion%5B1%5D.ipynb\" target=\"_parent\"><img src=\"https://colab.research.google.com/assets/colab-badge.svg\" alt=\"Open In Colab\"/></a>"
      ]
    },
    {
      "cell_type": "markdown",
      "metadata": {
        "id": "q7hIfIC2N8VH"
      },
      "source": [
        "#1"
      ]
    },
    {
      "cell_type": "code",
      "metadata": {
        "id": "Ke9fuEL0KGJd"
      },
      "source": [
        "for i in range(10):\n",
        "    print (str(i)*i)"
      ],
      "execution_count": null,
      "outputs": []
    },
    {
      "cell_type": "markdown",
      "metadata": {
        "id": "k20ZolreN4Qj"
      },
      "source": [
        "#2"
      ]
    },
    {
      "cell_type": "code",
      "metadata": {
        "id": "o3UUZXbXNHyM"
      },
      "source": [
        "num = 10\n",
        "for i in range(num):\n",
        "    for j in range(i):\n",
        "        print ('* ', end=\"\")\n",
        "    print ('.')"
      ],
      "execution_count": null,
      "outputs": []
    },
    {
      "cell_type": "markdown",
      "metadata": {
        "id": "nxHRmlBFN07z"
      },
      "source": [
        "#3"
      ]
    },
    {
      "cell_type": "code",
      "metadata": {
        "id": "302RrJGfNPvT"
      },
      "source": [
        "num = int(input(\"Ingrese el número de variaciones deseadas:\"))\n",
        "for i in range (num + 1):\n",
        "    print ('* '*i)\n"
      ],
      "execution_count": null,
      "outputs": []
    },
    {
      "cell_type": "markdown",
      "metadata": {
        "id": "vPjYmMHJNzAb"
      },
      "source": [
        "#4"
      ]
    },
    {
      "cell_type": "code",
      "metadata": {
        "id": "qlThYQylNUVa"
      },
      "source": [
        "num = 10\n",
        "for i in range(num):\n",
        "    for j in range(i):\n",
        "        print ('* ', end=\"\")\n",
        "    print ('+')\n",
        "for i in range(num, 0, -1):\n",
        "    for j in range(i):\n",
        "        print ('* ', end=\"\")\n",
        "    print ('-')"
      ],
      "execution_count": null,
      "outputs": []
    }
  ]
}