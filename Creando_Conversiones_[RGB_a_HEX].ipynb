{
  "nbformat": 4,
  "nbformat_minor": 0,
  "metadata": {
    "colab": {
      "name": "Creando Conversiones [RGB a HEX].ipynb",
      "provenance": [],
      "collapsed_sections": [],
      "authorship_tag": "ABX9TyOk7K4Pjb3StI/NhCdCeowi",
      "include_colab_link": true
    },
    "kernelspec": {
      "name": "python3",
      "display_name": "Python 3"
    },
    "language_info": {
      "name": "python"
    }
  },
  "cells": [
    {
      "cell_type": "markdown",
      "metadata": {
        "id": "view-in-github",
        "colab_type": "text"
      },
      "source": [
        "<a href=\"https://colab.research.google.com/github/AndresBorda24/Python_AndresBorda/blob/Python_AndresBorda/Creando_Conversiones_%5BRGB_a_HEX%5D.ipynb\" target=\"_parent\"><img src=\"https://colab.research.google.com/assets/colab-badge.svg\" alt=\"Open In Colab\"/></a>"
      ]
    },
    {
      "cell_type": "code",
      "metadata": {
        "id": "yhhtCcaXGu6x"
      },
      "source": [
        "red = int(input(\"Digite el color rojo: \"))\n",
        "green = int(input(\"Digite el color verde: \"))\n",
        "blue = int(input(\"Digite el color azul: \"))\n",
        "\n",
        "if ((red >= 0 and red <= 255) and (green >= 0 and green <= 255) and (blue >= 0 and blue <= 255)):\n",
        "  #   # Using .format\n",
        "  # hex_color = '#{:04x}{:02x}{:02x}'.format(red, green, blue)\n",
        "  # print('El valor hex es:', hex_color)\n",
        "\n",
        "  #   # Old Way\n",
        "  # hexa = '#%02x%02x%02x' % (red, green, blue)\n",
        "  # print(\"El valor hex es: \", hexa)\n",
        "\n",
        "    # f-string - Python 3.6\n",
        "  rgb = [red, green, blue]\n",
        "  rgb_fstring = f'#{rgb[0]:02x}{rgb[1]:02x}{rgb[2]:02x}'\n",
        "  print(\"El valor hex es: \", rgb_fstring)\n",
        "\n",
        "else:\n",
        "  print(\"Digitó un numero invalido! Adios!\")"
      ],
      "execution_count": null,
      "outputs": []
    }
  ]
}