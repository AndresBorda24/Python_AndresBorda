{
  "nbformat": 4,
  "nbformat_minor": 0,
  "metadata": {
    "colab": {
      "name": "Creando Conversiones [2 Km - Millas].ipynb",
      "provenance": [],
      "collapsed_sections": [],
      "authorship_tag": "ABX9TyNOHs++vgBrY3vGfqTtI2P8",
      "include_colab_link": true
    },
    "kernelspec": {
      "name": "python3",
      "display_name": "Python 3"
    },
    "language_info": {
      "name": "python"
    }
  },
  "cells": [
    {
      "cell_type": "markdown",
      "metadata": {
        "id": "view-in-github",
        "colab_type": "text"
      },
      "source": [
        "<a href=\"https://colab.research.google.com/github/AndresBorda24/Python_AndresBorda/blob/Python_AndresBorda/Creando_Conversiones_%5B2_Km_Millas%5D.ipynb\" target=\"_parent\"><img src=\"https://colab.research.google.com/assets/colab-badge.svg\" alt=\"Open In Colab\"/></a>"
      ]
    },
    {
      "cell_type": "code",
      "metadata": {
        "id": "GgDvFS8ZDGrS"
      },
      "source": [
        "def menu_selection():\n",
        "    print(4 * \"~\", \"Convertir de KM a MILLAS| MILLAS a KM\", 4 * \"~\")\n",
        "    print (\"Elige un tipo de conversion\")\n",
        "    print (\"[ 1 ] Km a Millas\")\n",
        "    print (\"[ 2 ] Millas a Km\")\n",
        "\n",
        "main_loop = True\n",
        "\n",
        "while not main_loop == False:\n",
        "    menu_selection()\n",
        "    user_selection = str(input(\"\\nBuen... Que quisiera hacer? Digite su elección [1 o 2]: \"))\n",
        "\n",
        "    if(user_selection == \"1\"):\n",
        "        user_in_km = int(input(\"\\nPor favor, digite el numero de Km que quisiera convertir: \"))\n",
        "        to_miles = round(user_in_km / 1.6093, 3)\n",
        "        \n",
        "        print(30 * \"_\")\n",
        "        print(\"{} Km son {} Millas.\".format(user_in_km,to_miles))\n",
        "        print(30 * \"_\")\n",
        "\n",
        "        keep_converting = input(\"\\nLe gustaría hacer otra conversión? [ si  |  no ] \")\n",
        "        if(keep_converting == \"si\"):\n",
        "            continue\n",
        "        elif(keep_converting == \"no\"):\n",
        "            main_loop = False\n",
        "          \n",
        "        else:\n",
        "            print(\"Eleccion equivocada! Adios!\")\n",
        "            break  \n",
        "           \n",
        "        \n",
        "    elif(user_selection == \"2\"):\n",
        "        user_in_miles = int(input(\"\\nPor favor, digite el numero de Millas que quisiera convertir: \"))\n",
        "        to_kilometers = round(user_in_miles * 1.6093, 3)\n",
        "        \n",
        "        print(30 * \"_\")\n",
        "        print(\"{} Millas son {} Kilometros.\".format(user_in_miles,to_kilometers))\n",
        "        print(30 * \"_\")\n",
        "        \n",
        "        keep_converting = input(\"\\nLe gustaría hacer otra conversión? [ si  |  no ] \")\n",
        "        if(keep_converting == \"si\"):\n",
        "            continue\n",
        "        elif(keep_converting == \"no\"):\n",
        "            main_loop = False\n",
        "          \n",
        "        else:\n",
        "            print(\"Eleccion equivocada! Adios!\")\n",
        "            break "
      ],
      "execution_count": null,
      "outputs": []
    }
  ]
}