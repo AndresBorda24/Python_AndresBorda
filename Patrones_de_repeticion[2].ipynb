{
  "nbformat": 4,
  "nbformat_minor": 0,
  "metadata": {
    "colab": {
      "name": "Patrones de repeticion[2].ipynb",
      "provenance": [],
      "collapsed_sections": [],
      "authorship_tag": "ABX9TyNdRAWCjup9/nKUuYW9tDhM",
      "include_colab_link": true
    },
    "kernelspec": {
      "name": "python3",
      "display_name": "Python 3"
    },
    "language_info": {
      "name": "python"
    }
  },
  "cells": [
    {
      "cell_type": "markdown",
      "metadata": {
        "id": "view-in-github",
        "colab_type": "text"
      },
      "source": [
        "<a href=\"https://colab.research.google.com/github/AndresBorda24/Python_AndresBorda/blob/Python_AndresBorda/Patrones_de_repeticion%5B2%5D.ipynb\" target=\"_parent\"><img src=\"https://colab.research.google.com/assets/colab-badge.svg\" alt=\"Open In Colab\"/></a>"
      ]
    },
    {
      "cell_type": "markdown",
      "metadata": {
        "id": "7w4VQ8_MOcwB"
      },
      "source": [
        "#1"
      ]
    },
    {
      "cell_type": "code",
      "metadata": {
        "id": "0egKJeFZOMd5"
      },
      "source": [
        "num = 10\n",
        "\n",
        "for i in range(num):\n",
        "  print(' ' * (num - i - 1) + \"*\" * (2 * i + 1))"
      ],
      "execution_count": null,
      "outputs": []
    },
    {
      "cell_type": "markdown",
      "metadata": {
        "id": "JXVU8HVEOfIh"
      },
      "source": [
        "#2"
      ]
    },
    {
      "cell_type": "code",
      "metadata": {
        "id": "GVSxBNFVOgi6"
      },
      "source": [
        "num = 10\n",
        "\n",
        "for i in range(num):\n",
        "  print(' ' * (num - i - 1) + \"*\" * (2 * i + 1))\n",
        "\n",
        "for n in range(int(num/2)):\n",
        "  print(' ' * int(num - num/4) + '*' * int(num/2))"
      ],
      "execution_count": null,
      "outputs": []
    }
  ]
}