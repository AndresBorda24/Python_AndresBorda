{
  "nbformat": 4,
  "nbformat_minor": 0,
  "metadata": {
    "colab": {
      "name": "Matemática básica [Calcular area triangulo].ipynb",
      "provenance": [],
      "collapsed_sections": [],
      "authorship_tag": "ABX9TyMbbpJ48Wq/p1Qg1T11Hlkq",
      "include_colab_link": true
    },
    "kernelspec": {
      "name": "python3",
      "display_name": "Python 3"
    },
    "language_info": {
      "name": "python"
    }
  },
  "cells": [
    {
      "cell_type": "markdown",
      "metadata": {
        "id": "view-in-github",
        "colab_type": "text"
      },
      "source": [
        "<a href=\"https://colab.research.google.com/github/AndresBorda24/Python_AndresBorda/blob/Python_AndresBorda/Matem%C3%A1tica_b%C3%A1sica_%5BCalcular_area_triangulo%5D.ipynb\" target=\"_parent\"><img src=\"https://colab.research.google.com/assets/colab-badge.svg\" alt=\"Open In Colab\"/></a>"
      ]
    },
    {
      "cell_type": "code",
      "metadata": {
        "id": "fJMkL6r5zszJ"
      },
      "source": [
        "# Calculate the area of a triangle\n",
        "\n",
        "print('Como calcular el area del triangulo\\n')\n",
        "\n",
        "base = float(input('Digite la base de su triangulo: '))\n",
        "height = float(input('Digite la altura de su triangulo: '))\n",
        "\n",
        "area_triangle = (base * height) / 2\n",
        "\n",
        "print(f'\\nEl area de su triangulo es: {area_triangle:.02f}')"
      ],
      "execution_count": null,
      "outputs": []
    }
  ]
}