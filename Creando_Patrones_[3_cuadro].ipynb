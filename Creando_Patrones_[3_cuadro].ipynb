{
  "nbformat": 4,
  "nbformat_minor": 0,
  "metadata": {
    "colab": {
      "name": "Creando Patrones [3 cuadro].ipynb",
      "provenance": [],
      "authorship_tag": "ABX9TyNlp/ytWgPs0vlZWbVvCGv6",
      "include_colab_link": true
    },
    "kernelspec": {
      "name": "python3",
      "display_name": "Python 3"
    },
    "language_info": {
      "name": "python"
    }
  },
  "cells": [
    {
      "cell_type": "markdown",
      "metadata": {
        "id": "view-in-github",
        "colab_type": "text"
      },
      "source": [
        "<a href=\"https://colab.research.google.com/github/AndresBorda24/Python_AndresBorda/blob/Python_AndresBorda/Creando_Patrones_%5B3_cuadro%5D.ipynb\" target=\"_parent\"><img src=\"https://colab.research.google.com/assets/colab-badge.svg\" alt=\"Open In Colab\"/></a>"
      ]
    },
    {
      "cell_type": "code",
      "metadata": {
        "id": "WkhVEu3wypNj"
      },
      "source": [
        "# We're going to create a square using '*'\n",
        "\n",
        "for x in range(3):\n",
        "  n = int(input(\"Digite la cantidad de filas: \"))\n",
        "\n",
        "  for i in range(n):\n",
        "    print('* ' * n) "
      ],
      "execution_count": null,
      "outputs": []
    }
  ]
}