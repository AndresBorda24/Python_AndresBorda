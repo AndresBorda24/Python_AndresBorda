{
  "nbformat": 4,
  "nbformat_minor": 0,
  "metadata": {
    "colab": {
      "name": "Desafios con listas [1].ipynb",
      "provenance": [],
      "collapsed_sections": [],
      "authorship_tag": "ABX9TyNpeq9d4OV1vH5xc79PV6Sq",
      "include_colab_link": true
    },
    "kernelspec": {
      "name": "python3",
      "display_name": "Python 3"
    },
    "language_info": {
      "name": "python"
    }
  },
  "cells": [
    {
      "cell_type": "markdown",
      "metadata": {
        "id": "view-in-github",
        "colab_type": "text"
      },
      "source": [
        "<a href=\"https://colab.research.google.com/github/AndresBorda24/Python_AndresBorda/blob/Python_AndresBorda/Desafios_con_listas_%5B1%5D.ipynb\" target=\"_parent\"><img src=\"https://colab.research.google.com/assets/colab-badge.svg\" alt=\"Open In Colab\"/></a>"
      ]
    },
    {
      "cell_type": "code",
      "metadata": {
        "id": "M84gdD9FeJgW"
      },
      "source": [
        "# All sentences are in Spanish except the name of the variables\n",
        "\n",
        "all_days = int(input(\"Cuantas temperaturas va a introducir: \"))\n",
        "total = 0\n",
        "temp = []\n",
        "\n",
        "for i in range(all_days):\n",
        "  next_day = int(input(f\"Temperatura maxima del dia {i+1}: \"))\n",
        "  temp.append(next_day)\n",
        "  total += temp[i]\n",
        "\n",
        "average_temp = total/all_days\n",
        "\n",
        "print(f\"\\nTemperatura promedio: {average_temp:.1f}\") # Just one decimal\n",
        "\n",
        "above_temp = [] # I reduced the name of the variable and delete the counter\n",
        "\n",
        "for x in temp:\n",
        "  if x > average_temp:\n",
        "    above_temp.append(x)\n",
        "\n",
        "print(f\"{len(above_temp)} dias sobre el promedio de temperatura: {above_temp}\")"
      ],
      "execution_count": null,
      "outputs": []
    }
  ]
}