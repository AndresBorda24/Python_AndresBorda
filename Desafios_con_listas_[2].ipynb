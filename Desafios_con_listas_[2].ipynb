{
  "nbformat": 4,
  "nbformat_minor": 0,
  "metadata": {
    "colab": {
      "name": "Desafios con listas [2].ipynb",
      "provenance": [],
      "collapsed_sections": [],
      "authorship_tag": "ABX9TyMB1U6IEKTWjh1VBMxwD/xM",
      "include_colab_link": true
    },
    "kernelspec": {
      "name": "python3",
      "display_name": "Python 3"
    },
    "language_info": {
      "name": "python"
    }
  },
  "cells": [
    {
      "cell_type": "markdown",
      "metadata": {
        "id": "view-in-github",
        "colab_type": "text"
      },
      "source": [
        "<a href=\"https://colab.research.google.com/github/AndresBorda24/Python_AndresBorda/blob/Python_AndresBorda/Desafios_con_listas_%5B2%5D.ipynb\" target=\"_parent\"><img src=\"https://colab.research.google.com/assets/colab-badge.svg\" alt=\"Open In Colab\"/></a>"
      ]
    },
    {
      "cell_type": "code",
      "metadata": {
        "id": "LImpN5Azicft"
      },
      "source": [
        "strlist = ['cute', 'me', 'california', 'assume', 'Andres','after']\n",
        "\n",
        "def thirdgreatest(strlist):\n",
        "  # strlist.sort(key = len, reverse = True)   Methos 1\n",
        "  x = sorted(strlist, key = len, reverse = True) # Method 2 \n",
        "  \n",
        "  print(x)\n",
        "  return x[2]\n",
        "\n",
        "thirdgreatest(strlist)\n"
      ],
      "execution_count": null,
      "outputs": []
    }
  ]
}