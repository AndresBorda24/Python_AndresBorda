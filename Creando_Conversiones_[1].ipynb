{
  "nbformat": 4,
  "nbformat_minor": 0,
  "metadata": {
    "colab": {
      "name": "Creando Conversiones [1].ipynb",
      "provenance": [],
      "collapsed_sections": [],
      "authorship_tag": "ABX9TyOQrujNAd3bmG6kJ4UpLyjY",
      "include_colab_link": true
    },
    "kernelspec": {
      "name": "python3",
      "display_name": "Python 3"
    },
    "language_info": {
      "name": "python"
    }
  },
  "cells": [
    {
      "cell_type": "markdown",
      "metadata": {
        "id": "view-in-github",
        "colab_type": "text"
      },
      "source": [
        "<a href=\"https://colab.research.google.com/github/AndresBorda24/Python_AndresBorda/blob/Python_AndresBorda/Creando_Conversiones_%5B1%5D.ipynb\" target=\"_parent\"><img src=\"https://colab.research.google.com/assets/colab-badge.svg\" alt=\"Open In Colab\"/></a>"
      ]
    },
    {
      "cell_type": "code",
      "metadata": {
        "id": "Pt7gnp3W-nNh"
      },
      "source": [
        "def timeConv (num):\n",
        "  minutes = num % 60\n",
        "  print (\"Minutos: \", minutes)\n",
        "  hours = (num - minutes)/60\n",
        "  print (\"Horas: \", hours)\n",
        "  result = str(hours) + \" horas \" + \"= \" + str(minutes) + \" min. \"\n",
        "  return result\n",
        "\n",
        "print(timeConv(566))"
      ],
      "execution_count": null,
      "outputs": []
    }
  ]
}